{
  "nbformat": 4,
  "nbformat_minor": 0,
  "metadata": {
    "colab": {
      "provenance": []
    },
    "kernelspec": {
      "name": "python3",
      "display_name": "Python 3"
    },
    "language_info": {
      "name": "python"
    }
  },
  "cells": [
    {
      "cell_type": "markdown",
      "source": [
        "# **Hand Written Digit Prediction-Classification Analysis**\n"
      ],
      "metadata": {
        "id": "s2oOSEb-KuLf"
      }
    },
    {
      "cell_type": "markdown",
      "source": [
        "**The digits dataset consists of 8x8 pixel imagesof digits.The images attribute of the dataset stores 8x8 arrays of grayscale values for each image.We will use these arrays to visualize the first four images.The target attribute of the dataset stores the digit each image represents.**"
      ],
      "metadata": {
        "id": "68ANH4TSLIjt"
      }
    },
    {
      "cell_type": "markdown",
      "source": [
        "# **Import library**"
      ],
      "metadata": {
        "id": "iC8An5ASNCup"
      }
    },
    {
      "cell_type": "code",
      "execution_count": 1,
      "metadata": {
        "id": "7bRcFsAOKIpp"
      },
      "outputs": [],
      "source": [
        "import pandas as pd"
      ]
    },
    {
      "cell_type": "code",
      "source": [
        "import numpy as np"
      ],
      "metadata": {
        "id": "pVnwuD9LLGnW"
      },
      "execution_count": 2,
      "outputs": []
    },
    {
      "cell_type": "code",
      "source": [
        "import matplotlib.pyplot as plt"
      ],
      "metadata": {
        "id": "aTOaZ_myMyC0"
      },
      "execution_count": 3,
      "outputs": []
    },
    {
      "cell_type": "markdown",
      "source": [
        "# **Import Data**"
      ],
      "metadata": {
        "id": "qh50isqaNNKt"
      }
    },
    {
      "cell_type": "code",
      "source": [
        "from sklearn.datasets import load_digits"
      ],
      "metadata": {
        "id": "GD_3xi89NMVm"
      },
      "execution_count": 4,
      "outputs": []
    },
    {
      "cell_type": "code",
      "source": [
        "df = load_digits()"
      ],
      "metadata": {
        "id": "mQ-5vkD0NujB"
      },
      "execution_count": 5,
      "outputs": []
    },
    {
      "cell_type": "code",
      "source": [
        "_, axes = plt.subplots(nrows=1, ncols=4, figsize=(10,3))\n",
        "for ax, image,label in zip(axes,df.images,df.target):\n",
        "  ax.set_axis_off()\n",
        "  ax.imshow(image,cmap=plt.cm.gray_r,interpolation=\"nearest\")\n",
        "  ax.set_title(\"Training: %i\" % label)"
      ],
      "metadata": {
        "colab": {
          "base_uri": "https://localhost:8080/",
          "height": 227
        },
        "id": "VuyBDUmaN43k",
        "outputId": "fd06f756-8210-4bdf-bb73-182321d28383"
      },
      "execution_count": 13,
      "outputs": [
        {
          "output_type": "display_data",
          "data": {
            "text/plain": [
              "<Figure size 1000x300 with 4 Axes>"
            ],
            "image/png": "[encoded data removed]"
          },
          "metadata": {}
        }
      ]
    },
    {
      "cell_type": "markdown",
      "source": [
        "# **Data** **Preprocessing**"
      ],
      "metadata": {
        "id": "STcjvToiP7MY"
      }
    },
    {
      "cell_type": "markdown",
      "source": [
        "**Flatten image**"
      ],
      "metadata": {
        "id": "cWDcIyb8QMD8"
      }
    },
    {
      "cell_type": "markdown",
      "source": [
        "![Screenshot (65).png](data:image/png;base64,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)"
      ],
      "metadata": {
        "id": "Bhd-jnddQTo_"
      }
    },
    {
      "cell_type": "markdown",
      "source": [
        "![Screenshot (66).png](data:image/png;base64,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)"
      ],
      "metadata": {
        "id": "kJDsb7cuSy-x"
      }
    },
    {
      "cell_type": "code",
      "source": [
        "df.images.shape"
      ],
      "metadata": {
        "colab": {
          "base_uri": "https://localhost:8080/"
        },
        "id": "yi0J_UKaTsKt",
        "outputId": "ed70d253-b860-49b4-9489-728ab0d861fd"
      },
      "execution_count": 11,
      "outputs": [
        {
          "output_type": "execute_result",
          "data": {
            "text/plain": [
              "(1797, 8, 8)"
            ]
          },
          "metadata": {},
          "execution_count": 11
        }
      ]
    },
    {
      "cell_type": "code",
      "source": [
        "df.images[0]"
      ],
      "metadata": {
        "colab": {
          "base_uri": "https://localhost:8080/"
        },
        "id": "JrnfTyBSTx7c",
        "outputId": "41f169c3-e0ff-4b2d-975e-9ea5baf43961"
      },
      "execution_count": 12,
      "outputs": [
        {
          "output_type": "execute_result",
          "data": {
            "text/plain": [
              "array([[ 0.,  0.,  5., 13.,  9.,  1.,  0.,  0.],\n",
              "       [ 0.,  0., 13., 15., 10., 15.,  5.,  0.],\n",
              "       [ 0.,  3., 15.,  2.,  0., 11.,  8.,  0.],\n",
              "       [ 0.,  4., 12.,  0.,  0.,  8.,  8.,  0.],\n",
              "       [ 0.,  5.,  8.,  0.,  0.,  9.,  8.,  0.],\n",
              "       [ 0.,  4., 11.,  0.,  1., 12.,  7.,  0.],\n",
              "       [ 0.,  2., 14.,  5., 10., 12.,  0.,  0.],\n",
              "       [ 0.,  0.,  6., 13., 10.,  0.,  0.,  0.]])"
            ]
          },
          "metadata": {},
          "execution_count": 12
        }
      ]
    },
    {
      "cell_type": "code",
      "source": [
        "df.images[0].shape"
      ],
      "metadata": {
        "colab": {
          "base_uri": "https://localhost:8080/"
        },
        "id": "ajt20x4xUTdy",
        "outputId": "6fd27057-d819-4eba-99fc-01d2aff51916"
      },
      "execution_count": 14,
      "outputs": [
        {
          "output_type": "execute_result",
          "data": {
            "text/plain": [
              "(8, 8)"
            ]
          },
          "metadata": {},
          "execution_count": 14
        }
      ]
    },
    {
      "cell_type": "code",
      "source": [
        "len(df.images)"
      ],
      "metadata": {
        "colab": {
          "base_uri": "https://localhost:8080/"
        },
        "id": "jKAYSSriUkUn",
        "outputId": "ea9b3b6b-6c62-411c-f3c4-fcdc512f03c9"
      },
      "execution_count": 15,
      "outputs": [
        {
          "output_type": "execute_result",
          "data": {
            "text/plain": [
              "1797"
            ]
          },
          "metadata": {},
          "execution_count": 15
        }
      ]
    },
    {
      "cell_type": "code",
      "source": [
        "n_samples=len(df.images)\n",
        "data= df.images.reshape((n_samples,-1))"
      ],
      "metadata": {
        "id": "vQ6Ela7wUsV8"
      },
      "execution_count": 19,
      "outputs": []
    },
    {
      "cell_type": "code",
      "source": [
        "data[0]"
      ],
      "metadata": {
        "colab": {
          "base_uri": "https://localhost:8080/"
        },
        "id": "HHsttxLpVDNR",
        "outputId": "57bea123-f213-4e80-b617-94488b4250e5"
      },
      "execution_count": 20,
      "outputs": [
        {
          "output_type": "execute_result",
          "data": {
            "text/plain": [
              "array([ 0.,  0.,  5., 13.,  9.,  1.,  0.,  0.,  0.,  0., 13., 15., 10.,\n",
              "       15.,  5.,  0.,  0.,  3., 15.,  2.,  0., 11.,  8.,  0.,  0.,  4.,\n",
              "       12.,  0.,  0.,  8.,  8.,  0.,  0.,  5.,  8.,  0.,  0.,  9.,  8.,\n",
              "        0.,  0.,  4., 11.,  0.,  1., 12.,  7.,  0.,  0.,  2., 14.,  5.,\n",
              "       10., 12.,  0.,  0.,  0.,  0.,  6., 13., 10.,  0.,  0.,  0.])"
            ]
          },
          "metadata": {},
          "execution_count": 20
        }
      ]
    },
    {
      "cell_type": "code",
      "source": [
        "data[0].shape"
      ],
      "metadata": {
        "colab": {
          "base_uri": "https://localhost:8080/"
        },
        "id": "TRKTSwksVHfb",
        "outputId": "7d4f2f03-09a6-4f6c-8aaf-0fd7caea541e"
      },
      "execution_count": 21,
      "outputs": [
        {
          "output_type": "execute_result",
          "data": {
            "text/plain": [
              "(64,)"
            ]
          },
          "metadata": {},
          "execution_count": 21
        }
      ]
    },
    {
      "cell_type": "code",
      "source": [
        "data.shape"
      ],
      "metadata": {
        "colab": {
          "base_uri": "https://localhost:8080/"
        },
        "id": "-2L2Y8OdVN1f",
        "outputId": "3f46a7b7-205f-4cd2-8806-f240c1f4396f"
      },
      "execution_count": 22,
      "outputs": [
        {
          "output_type": "execute_result",
          "data": {
            "text/plain": [
              "(1797, 64)"
            ]
          },
          "metadata": {},
          "execution_count": 22
        }
      ]
    },
    {
      "cell_type": "markdown",
      "source": [
        "# **Scaling image data**"
      ],
      "metadata": {
        "id": "42igM215YFyI"
      }
    },
    {
      "cell_type": "code",
      "source": [
        "data.min()"
      ],
      "metadata": {
        "colab": {
          "base_uri": "https://localhost:8080/"
        },
        "id": "DtCK0FngYKTk",
        "outputId": "7fe224d8-1ad3-4ad1-9bdf-fd6e6c0be218"
      },
      "execution_count": 23,
      "outputs": [
        {
          "output_type": "execute_result",
          "data": {
            "text/plain": [
              "0.0"
            ]
          },
          "metadata": {},
          "execution_count": 23
        }
      ]
    },
    {
      "cell_type": "code",
      "source": [
        "data.max()"
      ],
      "metadata": {
        "colab": {
          "base_uri": "https://localhost:8080/"
        },
        "id": "vfMYPVn_YUFY",
        "outputId": "9e7218d6-4303-4681-e5f6-77d53bab198f"
      },
      "execution_count": 24,
      "outputs": [
        {
          "output_type": "execute_result",
          "data": {
            "text/plain": [
              "16.0"
            ]
          },
          "metadata": {},
          "execution_count": 24
        }
      ]
    },
    {
      "cell_type": "code",
      "source": [
        "data=data/16"
      ],
      "metadata": {
        "id": "xRsaFILBYUZB"
      },
      "execution_count": 25,
      "outputs": []
    },
    {
      "cell_type": "code",
      "source": [
        "data.min()"
      ],
      "metadata": {
        "colab": {
          "base_uri": "https://localhost:8080/"
        },
        "id": "k-zYohoCYUtd",
        "outputId": "044b5b2c-a22d-4b6c-fd5e-70cd7438aed5"
      },
      "execution_count": 26,
      "outputs": [
        {
          "output_type": "execute_result",
          "data": {
            "text/plain": [
              "0.0"
            ]
          },
          "metadata": {},
          "execution_count": 26
        }
      ]
    },
    {
      "cell_type": "code",
      "source": [
        "data.max()"
      ],
      "metadata": {
        "colab": {
          "base_uri": "https://localhost:8080/"
        },
        "id": "vM8Y-z-XYVN_",
        "outputId": "42124373-55dd-4b6f-c4f2-e6abd4b96d0b"
      },
      "execution_count": 27,
      "outputs": [
        {
          "output_type": "execute_result",
          "data": {
            "text/plain": [
              "1.0"
            ]
          },
          "metadata": {},
          "execution_count": 27
        }
      ]
    },
    {
      "cell_type": "code",
      "source": [
        "data[0]"
      ],
      "metadata": {
        "colab": {
          "base_uri": "https://localhost:8080/"
        },
        "id": "HR8VJNAHYmeP",
        "outputId": "29877aee-3a78-4d61-bfb2-1c73042a501a"
      },
      "execution_count": 28,
      "outputs": [
        {
          "output_type": "execute_result",
          "data": {
            "text/plain": [
              "array([0.    , 0.    , 0.3125, 0.8125, 0.5625, 0.0625, 0.    , 0.    ,\n",
              "       0.    , 0.    , 0.8125, 0.9375, 0.625 , 0.9375, 0.3125, 0.    ,\n",
              "       0.    , 0.1875, 0.9375, 0.125 , 0.    , 0.6875, 0.5   , 0.    ,\n",
              "       0.    , 0.25  , 0.75  , 0.    , 0.    , 0.5   , 0.5   , 0.    ,\n",
              "       0.    , 0.3125, 0.5   , 0.    , 0.    , 0.5625, 0.5   , 0.    ,\n",
              "       0.    , 0.25  , 0.6875, 0.    , 0.0625, 0.75  , 0.4375, 0.    ,\n",
              "       0.    , 0.125 , 0.875 , 0.3125, 0.625 , 0.75  , 0.    , 0.    ,\n",
              "       0.    , 0.    , 0.375 , 0.8125, 0.625 , 0.    , 0.    , 0.    ])"
            ]
          },
          "metadata": {},
          "execution_count": 28
        }
      ]
    },
    {
      "cell_type": "markdown",
      "source": [
        "# **Train Test Split Data**"
      ],
      "metadata": {
        "id": "F7R69gJjYsKj"
      }
    },
    {
      "cell_type": "code",
      "source": [
        "from sklearn.model_selection import train_test_split"
      ],
      "metadata": {
        "id": "ghOgjx4jYz6v"
      },
      "execution_count": 29,
      "outputs": []
    },
    {
      "cell_type": "code",
      "source": [
        "X_train,X_test,y_train,y_test=train_test_split(data,df.target,test_size=0.3)"
      ],
      "metadata": {
        "id": "6cJ25AgEY_bv"
      },
      "execution_count": 30,
      "outputs": []
    },
    {
      "cell_type": "code",
      "source": [
        "X_train.shape,X_test.shape,y_train.shape,y_test.shape"
      ],
      "metadata": {
        "colab": {
          "base_uri": "https://localhost:8080/"
        },
        "id": "VGMbiy-eZfVY",
        "outputId": "586892ed-c0f3-4ba3-c2ad-ac2f69f4a241"
      },
      "execution_count": 31,
      "outputs": [
        {
          "output_type": "execute_result",
          "data": {
            "text/plain": [
              "((1257, 64), (540, 64), (1257,), (540,))"
            ]
          },
          "metadata": {},
          "execution_count": 31
        }
      ]
    },
    {
      "cell_type": "markdown",
      "source": [
        "# **Random Forest Model**"
      ],
      "metadata": {
        "id": "WSxWTQ3IZzii"
      }
    },
    {
      "cell_type": "code",
      "source": [
        "from sklearn.ensemble import RandomForestClassifier"
      ],
      "metadata": {
        "id": "9UlQW6JAZqac"
      },
      "execution_count": 32,
      "outputs": []
    },
    {
      "cell_type": "code",
      "source": [
        "rf=RandomForestClassifier()"
      ],
      "metadata": {
        "id": "TkZIcXl7aCKr"
      },
      "execution_count": 34,
      "outputs": []
    },
    {
      "cell_type": "code",
      "source": [
        "rf.fit(X_train, y_train)"
      ],
      "metadata": {
        "colab": {
          "base_uri": "https://localhost:8080/",
          "height": 52
        },
        "id": "dqX_vcZiaXcs",
        "outputId": "fb2fc418-081d-48ff-91c6-7147894363ec"
      },
      "execution_count": 35,
      "outputs": [
        {
          "output_type": "execute_result",
          "data": {
            "text/plain": [
              "RandomForestClassifier()"
            ],
            "text/html": [
              "<style>#sk-container-id-1 {color: black;}#sk-container-id-1 pre{padding: 0;}#sk-container-id-1 div.sk-toggleable {background-color: white;}#sk-container-id-1 label.sk-toggleable__label {cursor: pointer;display: block;width: 100%;margin-bottom: 0;padding: 0.3em;box-sizing: border-box;text-align: center;}#sk-container-id-1 label.sk-toggleable__label-arrow:before {content: \"▸\";float: left;margin-right: 0.25em;color: #696969;}#sk-container-id-1 label.sk-toggleable__label-arrow:hover:before {color: black;}#sk-container-id-1 div.sk-estimator:hover label.sk-toggleable__label-arrow:before {color: black;}#sk-container-id-1 div.sk-toggleable__content {max-height: 0;max-width: 0;overflow: hidden;text-align: left;background-color: #f0f8ff;}#sk-container-id-1 div.sk-toggleable__content pre {margin: 0.2em;color: black;border-radius: 0.25em;background-color: #f0f8ff;}#sk-container-id-1 input.sk-toggleable__control:checked~div.sk-toggleable__content {max-height: 200px;max-width: 100%;overflow: auto;}#sk-container-id-1 input.sk-toggleable__control:checked~label.sk-toggleable__label-arrow:before {content: \"▾\";}#sk-container-id-1 div.sk-estimator input.sk-toggleable__control:checked~label.sk-toggleable__label {background-color: #d4ebff;}#sk-container-id-1 div.sk-label input.sk-toggleable__control:checked~label.sk-toggleable__label {background-color: #d4ebff;}#sk-container-id-1 input.sk-hidden--visually {border: 0;clip: rect(1px 1px 1px 1px);clip: rect(1px, 1px, 1px, 1px);height: 1px;margin: -1px;overflow: hidden;padding: 0;position: absolute;width: 1px;}#sk-container-id-1 div.sk-estimator {font-family: monospace;background-color: #f0f8ff;border: 1px dotted black;border-radius: 0.25em;box-sizing: border-box;margin-bottom: 0.5em;}#sk-container-id-1 div.sk-estimator:hover {background-color: #d4ebff;}#sk-container-id-1 div.sk-parallel-item::after {content: \"\";width: 100%;border-bottom: 1px solid gray;flex-grow: 1;}#sk-container-id-1 div.sk-label:hover label.sk-toggleable__label {background-color: #d4ebff;}#sk-container-id-1 div.sk-serial::before {content: \"\";position: absolute;border-left: 1px solid gray;box-sizing: border-box;top: 0;bottom: 0;left: 50%;z-index: 0;}#sk-container-id-1 div.sk-serial {display: flex;flex-direction: column;align-items: center;background-color: white;padding-right: 0.2em;padding-left: 0.2em;position: relative;}#sk-container-id-1 div.sk-item {position: relative;z-index: 1;}#sk-container-id-1 div.sk-parallel {display: flex;align-items: stretch;justify-content: center;background-color: white;position: relative;}#sk-container-id-1 div.sk-item::before, #sk-container-id-1 div.sk-parallel-item::before {content: \"\";position: absolute;border-left: 1px solid gray;box-sizing: border-box;top: 0;bottom: 0;left: 50%;z-index: -1;}#sk-container-id-1 div.sk-parallel-item {display: flex;flex-direction: column;z-index: 1;position: relative;background-color: white;}#sk-container-id-1 div.sk-parallel-item:first-child::after {align-self: flex-end;width: 50%;}#sk-container-id-1 div.sk-parallel-item:last-child::after {align-self: flex-start;width: 50%;}#sk-container-id-1 div.sk-parallel-item:only-child::after {width: 0;}#sk-container-id-1 div.sk-dashed-wrapped {border: 1px dashed gray;margin: 0 0.4em 0.5em 0.4em;box-sizing: border-box;padding-bottom: 0.4em;background-color: white;}#sk-container-id-1 div.sk-label label {font-family: monospace;font-weight: bold;display: inline-block;line-height: 1.2em;}#sk-container-id-1 div.sk-label-container {text-align: center;}#sk-container-id-1 div.sk-container {/* jupyter's `normalize.less` sets `[hidden] { display: none; }` but bootstrap.min.css set `[hidden] { display: none !important; }` so we also need the `!important` here to be able to override the default hidden behavior on the sphinx rendered scikit-learn.org. See: https://github.com/scikit-learn/scikit-learn/issues/21755 */display: inline-block !important;position: relative;}#sk-container-id-1 div.sk-text-repr-fallback {display: none;}</style><div id=\"sk-container-id-1\" class=\"sk-top-container\"><div class=\"sk-text-repr-fallback\"><pre>RandomForestClassifier()</pre><b>In a Jupyter environment, please rerun this cell to show the HTML representation or trust the notebook. <br />On GitHub, the HTML representation is unable to render, please try loading this page with nbviewer.org.</b></div><div class=\"sk-container\" hidden><div class=\"sk-item\"><div class=\"sk-estimator sk-toggleable\"><input class=\"sk-toggleable__control sk-hidden--visually\" id=\"sk-estimator-id-1\" type=\"checkbox\" checked><label for=\"sk-estimator-id-1\" class=\"sk-toggleable__label sk-toggleable__label-arrow\">RandomForestClassifier</label><div class=\"sk-toggleable__content\"><pre>RandomForestClassifier()</pre></div></div></div></div></div>"
            ]
          },
          "metadata": {},
          "execution_count": 35
        }
      ]
    },
    {
      "cell_type": "markdown",
      "source": [
        "# **Predict Test Data**"
      ],
      "metadata": {
        "id": "7s2rWcxQapcl"
      }
    },
    {
      "cell_type": "code",
      "source": [
        "y_pred= rf.predict(X_test)"
      ],
      "metadata": {
        "id": "kDg0oN2-azJ0"
      },
      "execution_count": 36,
      "outputs": []
    },
    {
      "cell_type": "code",
      "source": [
        "y_pred"
      ],
      "metadata": {
        "colab": {
          "base_uri": "https://localhost:8080/"
        },
        "id": "FoFwajkCa9qO",
        "outputId": "1ca058bc-e822-4df9-be55-a683a2afad55"
      },
      "execution_count": 37,
      "outputs": [
        {
          "output_type": "execute_result",
          "data": {
            "text/plain": [
              "array([4, 8, 3, 9, 2, 9, 6, 9, 9, 8, 1, 5, 6, 8, 3, 9, 7, 0, 6, 1, 8, 5,\n",
              "       7, 9, 6, 3, 4, 9, 0, 8, 7, 3, 5, 9, 8, 3, 2, 9, 9, 3, 1, 9, 7, 2,\n",
              "       7, 0, 7, 6, 0, 8, 0, 7, 9, 4, 8, 2, 0, 4, 3, 5, 9, 9, 3, 6, 2, 1,\n",
              "       3, 1, 6, 7, 5, 2, 2, 6, 7, 3, 6, 5, 1, 2, 1, 9, 2, 1, 1, 0, 2, 0,\n",
              "       6, 8, 8, 1, 6, 2, 4, 5, 3, 0, 1, 9, 4, 1, 8, 2, 3, 7, 7, 9, 5, 8,\n",
              "       4, 1, 6, 6, 2, 6, 1, 5, 5, 1, 0, 1, 6, 9, 1, 4, 3, 1, 1, 7, 5, 2,\n",
              "       8, 0, 0, 9, 8, 0, 7, 2, 5, 7, 1, 0, 4, 0, 5, 7, 2, 9, 3, 8, 2, 2,\n",
              "       9, 0, 9, 6, 6, 4, 4, 0, 3, 3, 6, 5, 8, 1, 0, 6, 6, 5, 2, 1, 0, 0,\n",
              "       6, 9, 4, 2, 5, 1, 7, 6, 8, 9, 1, 0, 7, 8, 8, 6, 3, 3, 2, 9, 4, 3,\n",
              "       4, 1, 0, 3, 4, 4, 1, 2, 6, 7, 0, 4, 4, 5, 8, 3, 2, 9, 7, 2, 3, 0,\n",
              "       8, 2, 9, 6, 7, 6, 1, 2, 9, 4, 5, 3, 2, 5, 8, 1, 3, 5, 8, 3, 7, 9,\n",
              "       6, 0, 5, 4, 4, 6, 9, 2, 0, 1, 1, 4, 9, 7, 8, 8, 5, 6, 9, 8, 5, 6,\n",
              "       4, 9, 5, 4, 2, 1, 1, 5, 3, 6, 7, 7, 6, 2, 7, 5, 1, 9, 7, 5, 7, 2,\n",
              "       5, 2, 3, 0, 2, 6, 4, 4, 4, 4, 5, 6, 0, 3, 9, 4, 9, 2, 7, 4, 3, 3,\n",
              "       4, 0, 5, 9, 2, 7, 7, 5, 3, 8, 9, 4, 3, 5, 4, 5, 4, 3, 9, 8, 8, 6,\n",
              "       6, 8, 8, 5, 1, 1, 5, 9, 3, 0, 5, 0, 3, 7, 5, 3, 1, 2, 3, 7, 1, 3,\n",
              "       1, 8, 4, 2, 1, 3, 7, 9, 1, 0, 3, 2, 5, 3, 6, 5, 4, 8, 3, 7, 5, 6,\n",
              "       6, 1, 0, 2, 3, 5, 5, 8, 7, 5, 7, 8, 2, 4, 0, 1, 2, 6, 8, 2, 8, 1,\n",
              "       4, 7, 5, 2, 1, 5, 6, 0, 5, 1, 2, 0, 1, 3, 6, 3, 0, 8, 5, 6, 0, 6,\n",
              "       5, 1, 2, 8, 0, 0, 9, 3, 2, 7, 1, 4, 3, 3, 6, 0, 5, 2, 7, 9, 1, 8,\n",
              "       8, 0, 3, 9, 0, 1, 3, 8, 8, 3, 4, 1, 5, 7, 0, 6, 9, 1, 7, 6, 6, 9,\n",
              "       1, 7, 3, 3, 4, 6, 3, 7, 4, 1, 5, 5, 2, 3, 9, 4, 6, 9, 4, 2, 5, 0,\n",
              "       0, 1, 7, 3, 5, 4, 7, 9, 3, 2, 6, 3, 1, 6, 8, 1, 8, 7, 7, 7, 0, 6,\n",
              "       6, 4, 1, 2, 0, 8, 6, 6, 9, 7, 1, 9, 2, 2, 8, 6, 7, 4, 0, 0, 0, 8,\n",
              "       4, 5, 5, 3, 6, 2, 1, 1, 8, 3, 7, 2])"
            ]
          },
          "metadata": {},
          "execution_count": 37
        }
      ]
    },
    {
      "cell_type": "markdown",
      "source": [
        "# **Model accuracy**"
      ],
      "metadata": {
        "id": "FtUO8_kJbJFj"
      }
    },
    {
      "cell_type": "code",
      "source": [
        "from sklearn.metrics import confusion_matrix,classification_report"
      ],
      "metadata": {
        "id": "ghAqVDp9bNnn"
      },
      "execution_count": 38,
      "outputs": []
    },
    {
      "cell_type": "code",
      "source": [
        "confusion_matrix(y_test,y_pred)"
      ],
      "metadata": {
        "colab": {
          "base_uri": "https://localhost:8080/"
        },
        "id": "J7Z0g2RNbeqE",
        "outputId": "06aa8fdb-61b6-4668-c40c-fb52429a5c50"
      },
      "execution_count": 39,
      "outputs": [
        {
          "output_type": "execute_result",
          "data": {
            "text/plain": [
              "array([[51,  0,  0,  0,  0,  0,  0,  0,  0,  0],\n",
              "       [ 0, 58,  0,  0,  0,  0,  0,  0,  0,  0],\n",
              "       [ 0,  0, 54,  0,  0,  0,  0,  0,  0,  0],\n",
              "       [ 0,  0,  0, 58,  0,  1,  0,  1,  2,  0],\n",
              "       [ 0,  0,  0,  0, 47,  0,  0,  1,  0,  1],\n",
              "       [ 0,  0,  0,  1,  0, 54,  0,  0,  2,  0],\n",
              "       [ 0,  0,  0,  0,  1,  0, 58,  0,  0,  0],\n",
              "       [ 0,  0,  0,  0,  0,  0,  0, 48,  0,  0],\n",
              "       [ 0,  3,  1,  0,  0,  0,  0,  1, 43,  0],\n",
              "       [ 0,  0,  0,  1,  0,  1,  0,  0,  2, 50]])"
            ]
          },
          "metadata": {},
          "execution_count": 39
        }
      ]
    },
    {
      "cell_type": "code",
      "source": [
        "print(classification_report(y_test, y_pred))"
      ],
      "metadata": {
        "colab": {
          "base_uri": "https://localhost:8080/"
        },
        "id": "BQud2khsbodx",
        "outputId": "6773e4c2-8c80-4f2f-d9b5-9eec7bccacde"
      },
      "execution_count": 41,
      "outputs": [
        {
          "output_type": "stream",
          "name": "stdout",
          "text": [
            "              precision    recall  f1-score   support\n",
            "\n",
            "           0       1.00      1.00      1.00        51\n",
            "           1       0.95      1.00      0.97        58\n",
            "           2       0.98      1.00      0.99        54\n",
            "           3       0.97      0.94      0.95        62\n",
            "           4       0.98      0.96      0.97        49\n",
            "           5       0.96      0.95      0.96        57\n",
            "           6       1.00      0.98      0.99        59\n",
            "           7       0.94      1.00      0.97        48\n",
            "           8       0.88      0.90      0.89        48\n",
            "           9       0.98      0.93      0.95        54\n",
            "\n",
            "    accuracy                           0.96       540\n",
            "   macro avg       0.96      0.96      0.96       540\n",
            "weighted avg       0.97      0.96      0.96       540\n",
            "\n"
          ]
        }
      ]
    }
  ]
}
